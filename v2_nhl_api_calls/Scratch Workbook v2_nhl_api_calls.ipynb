{
 "cells": [
  {
   "cell_type": "code",
   "execution_count": 3,
   "metadata": {
    "scrolled": true
   },
   "outputs": [
    {
     "name": "stdout",
     "output_type": "stream",
     "text": [
      "Profit H is -175.0 while profit L is 0.0. the ratio of wagers \n",
      " wh / wl is 0.13157894736842105\n"
     ]
    }
   ],
   "source": [
    "l = -760\n",
    "h = 585\n",
    "wh = 100\n",
    "wl = 760\n",
    "profit_h = (wh / 100) * h - wl\n",
    "profit_l = (-wl / l) * 100 - wh\n",
    "print(f'Profit H is {profit_h} while profit L is {profit_l}. the ratio of wagers \\n wh / wl is {wh / wl}')"
   ]
  },
  {
   "cell_type": "code",
   "execution_count": 132,
   "metadata": {},
   "outputs": [
    {
     "ename": "TypeError",
     "evalue": "unsupported operand type(s) for +: 'NoneType' and 'str'",
     "output_type": "error",
     "traceback": [
      "\u001b[0;31m---------------------------------------------------------------------------\u001b[0m",
      "\u001b[0;31mTypeError\u001b[0m                                 Traceback (most recent call last)",
      "\u001b[0;32m<ipython-input-132-ed72935d8f02>\u001b[0m in \u001b[0;36m<module>\u001b[0;34m\u001b[0m\n\u001b[1;32m     47\u001b[0m         \u001b[0;34m\"away_goals\"\u001b[0m \u001b[0;34m:\u001b[0m \u001b[0mdata\u001b[0m\u001b[0;34m[\u001b[0m\u001b[0;34m\"awayTeam\"\u001b[0m\u001b[0;34m]\u001b[0m\u001b[0;34m[\u001b[0m\u001b[0;34m\"score\"\u001b[0m\u001b[0;34m]\u001b[0m \u001b[0;32mif\u001b[0m \u001b[0mdata\u001b[0m\u001b[0;34m[\u001b[0m\u001b[0;34m\"gameState\"\u001b[0m\u001b[0;34m]\u001b[0m \u001b[0;34m!=\u001b[0m \u001b[0;34m'FUT'\u001b[0m \u001b[0;32melse\u001b[0m \u001b[0;32mNone\u001b[0m\u001b[0;34m,\u001b[0m\u001b[0;34m\u001b[0m\u001b[0;34m\u001b[0m\u001b[0m\n\u001b[1;32m     48\u001b[0m         \u001b[0;34m\"home_goals\"\u001b[0m \u001b[0;34m:\u001b[0m \u001b[0mdata\u001b[0m\u001b[0;34m[\u001b[0m\u001b[0;34m\"homeTeam\"\u001b[0m\u001b[0;34m]\u001b[0m\u001b[0;34m[\u001b[0m\u001b[0;34m\"score\"\u001b[0m\u001b[0;34m]\u001b[0m \u001b[0;32mif\u001b[0m \u001b[0mdata\u001b[0m\u001b[0;34m[\u001b[0m\u001b[0;34m\"gameState\"\u001b[0m\u001b[0;34m]\u001b[0m \u001b[0;34m!=\u001b[0m \u001b[0;34m'FUT'\u001b[0m \u001b[0;32melse\u001b[0m \u001b[0;32mNone\u001b[0m\u001b[0;34m,\u001b[0m\u001b[0;34m\u001b[0m\u001b[0;34m\u001b[0m\u001b[0m\n\u001b[0;32m---> 49\u001b[0;31m         \u001b[0;34m\"outcome\"\u001b[0m \u001b[0;34m:\u001b[0m \u001b[0moutcome_prefix\u001b[0m \u001b[0;34m+\u001b[0m \u001b[0moutcome_suffix\u001b[0m\u001b[0;34m,\u001b[0m\u001b[0;34m\u001b[0m\u001b[0;34m\u001b[0m\u001b[0m\n\u001b[0m\u001b[1;32m     50\u001b[0m         \u001b[0;34m\"venue\"\u001b[0m\u001b[0;34m:\u001b[0m \u001b[0mdata\u001b[0m\u001b[0;34m[\u001b[0m\u001b[0;34m\"venue\"\u001b[0m\u001b[0;34m]\u001b[0m\u001b[0;34m,\u001b[0m\u001b[0;34m\u001b[0m\u001b[0;34m\u001b[0m\u001b[0m\n\u001b[1;32m     51\u001b[0m         \u001b[0;34m\"game_state\"\u001b[0m \u001b[0;34m:\u001b[0m \u001b[0mdata\u001b[0m\u001b[0;34m[\u001b[0m\u001b[0;34m\"gameState\"\u001b[0m\u001b[0;34m]\u001b[0m\u001b[0;34m\u001b[0m\u001b[0;34m\u001b[0m\u001b[0m\n",
      "\u001b[0;31mTypeError\u001b[0m: unsupported operand type(s) for +: 'NoneType' and 'str'"
     ]
    }
   ],
   "source": [
    "import requests\n",
    "from datetime import datetime\n",
    "import pandas as pd\n",
    "\n",
    "# Get Game ID List:\n",
    "api_endpoint = 'https://api-web.nhle.com/v1/schedule/'\n",
    "\n",
    "start_date = '2020-08-01'\n",
    "end_date = '2023-09-26'\n",
    "\n",
    "date_range = pd.date_range(start_date, end_date, \n",
    "              freq='W').strftime(\"%G-%m-%d\").tolist()\n",
    "\n",
    "game_id_list = []\n",
    "for date in date_range:\n",
    "    api_link = f\"https://api-web.nhle.com/v1/schedule/{date}\"\n",
    "    response = requests.get(api_link)\n",
    "    data = response.json()\n",
    "    for day in data['gameWeek']:\n",
    "        for game in day['games']:\n",
    "            game_id_list.append(game['id'])\n",
    "            \n",
    "# Ensure no duplicates\n",
    "game_id_list = set(game_id_list)\n",
    "\n",
    "# Define the NHL API endpoint for the schedule endpoint\n",
    "game_stats = []\n",
    "game_team_stats = []\n",
    "game_skater_stats = []\n",
    "game_goalie_stats = []\n",
    "\n",
    "for GAMEID in game_id_list:\n",
    "    api_url = f\"https://api-web.nhle.com/v1/gamecenter/{GAMEID}/boxscore\"\n",
    "    response = requests.get(api_url)\n",
    "    data = response.json()\n",
    "    \n",
    "    outcome_prefix = None if data[\"gameState\"] == 'FUT' else 'home win ' if data[\"homeTeam\"][\"score\"] > data[\"awayTeam\"][\"score\"] else 'away win'\n",
    "    outcome_suffix = '' if data[\"gameState\"] == 'FUT' else'REG' if len(data['boxscore']['linescore']['byPeriod']) == 3 else 'OT'\n",
    "    \n",
    "    game_stats_dict = {\n",
    "        \"game_id\" : GAMEID,\n",
    "        \"season\" : data[\"season\"],\n",
    "        \"type\" : data[\"gameType\"],\n",
    "        \"date_time_GMT\" : data[\"startTimeUTC\"],\n",
    "        \"away_team_id\" : str(data[\"awayTeam\"][\"id\"]),\n",
    "        \"home_team_id\" : str(data[\"homeTeam\"][\"id\"]),\n",
    "        \"away_goals\" : data[\"awayTeam\"][\"score\"] if data[\"gameState\"] != 'FUT' else None,\n",
    "        \"home_goals\" : data[\"homeTeam\"][\"score\"] if data[\"gameState\"] != 'FUT' else None,\n",
    "        \"outcome\" : outcome_prefix + outcome_suffix,\n",
    "        \"venue\": data[\"venue\"],\n",
    "        \"game_state\" : data[\"gameState\"]\n",
    "    }\n",
    "    \n",
    "    game_stats.append(game_stats_dict)\n",
    "    \n",
    "    # Only append stats for games that have started\n",
    "    if datetime.strptime(data[\"startTimeUTC\"], \"%Y-%m-%dT%H:%M:%SZ\") < datetime.now():\n",
    "        home_team_stats_dict = {\n",
    "            \"game_id\" : GAMEID,\n",
    "            \"team_id\" : str(data[\"homeTeam\"][\"id\"]),\n",
    "            \"HoA\" : \"home\",\n",
    "            \"won\" : None if data[\"homeTeam\"].get(\"score\") is None else True if data[\"homeTeam\"].get(\"score\") > data[\"awayTeam\"].get(\"score\") else False,\n",
    "            \"settled_in\" : outcome_suffix,\n",
    "            \"head_coach\" : data[\"boxscore\"][\"gameInfo\"][\"homeTeam\"][\"headCoach\"],\n",
    "            \"goals\" : data[\"homeTeam\"][\"score\"],\n",
    "            \"shots\" : data[\"homeTeam\"].get('sog'),\n",
    "            \"hits\" : data[\"homeTeam\"][\"hits\"],\n",
    "            \"pim\" : data[\"homeTeam\"][\"pim\"],\n",
    "            \"blocks\" : data[\"homeTeam\"][\"blocks\"],\n",
    "            \"faceoffWinningPctg\" : data[\"homeTeam\"][\"faceoffWinningPctg\"],\n",
    "            \"powerPlayConversion\" : data[\"homeTeam\"][\"powerPlayConversion\"],\n",
    "        }\n",
    "\n",
    "        away_team_stats_dict = {\n",
    "            \"game_id\" : GAMEID,\n",
    "            \"team_id\" : str(data[\"awayTeam\"][\"id\"]),\n",
    "            \"HoA\" : \"away\",\n",
    "            \"won\" : None if data[\"homeTeam\"].get(\"score\") is None else False if data[\"homeTeam\"].get(\"score\") > data[\"awayTeam\"].get(\"score\") else True,\n",
    "            \"settled_in\" : outcome_suffix,\n",
    "            \"head_coach\" : data[\"boxscore\"][\"gameInfo\"][\"awayTeam\"][\"headCoach\"],\n",
    "            \"goals\" : data[\"awayTeam\"][\"score\"],\n",
    "            \"shots\" : data[\"awayTeam\"].get('sog'),\n",
    "            \"hits\" : data[\"awayTeam\"][\"hits\"],\n",
    "            \"pim\" : data[\"awayTeam\"][\"pim\"],\n",
    "            \"blocks\" : data[\"awayTeam\"][\"blocks\"],\n",
    "            \"faceoffWinningPctg\" : data[\"awayTeam\"][\"faceoffWinningPctg\"],\n",
    "            \"powerPlayConversion\" : data[\"awayTeam\"][\"powerPlayConversion\"],\n",
    "        }\n",
    "\n",
    "        for player_type in ['forwards', 'defense']:\n",
    "            for player in data['boxscore']['playerByGameStats']['homeTeam'][player_type]:\n",
    "                home_team_skater_stats_dict = {\n",
    "                    \"game_id\" : GAMEID,\n",
    "                    \"player_id\" : player['playerId'],\n",
    "                    \"team_id\" : str(data[\"homeTeam\"][\"id\"]),\n",
    "                    \"time_on_ice\" : player['toi'],\n",
    "                    \"assists\" : player['assists'],\n",
    "                    \"goals\" : player['goals'],\n",
    "                    \"shots\" : player['shots'],\n",
    "                    \"hits\" : player['hits'],\n",
    "                    \"power_play_goals\" : player['powerPlayGoals'],\n",
    "                    \"power_play_assists\" : player['powerPlayPoints'] - player['powerPlayGoals'],\n",
    "                }\n",
    "                game_skater_stats.append(home_team_skater_stats_dict)\n",
    "\n",
    "        for player_type in ['forwards', 'defense']:\n",
    "            for player in data['boxscore']['playerByGameStats']['awayTeam'][player_type]:\n",
    "                away_team_skater_stats_dict = {\n",
    "                    \"game_id\" : GAMEID,\n",
    "                    \"player_id\" : player['playerId'],\n",
    "                    \"team_id\" : str(data[\"awayTeam\"][\"id\"]),\n",
    "                    \"time_on_ice\" : player['toi'],\n",
    "                    \"assists\" : player['assists'],\n",
    "                    \"goals\" : player['goals'],\n",
    "                    \"shots\" : player['shots'],\n",
    "                    \"hits\" : player['hits'],\n",
    "                    \"power_play_goals\" : player['powerPlayGoals'],\n",
    "                    \"power_play_assists\" : player['powerPlayPoints'] - player['powerPlayGoals'],\n",
    "                }\n",
    "                game_skater_stats.append(away_team_skater_stats_dict)\n",
    "\n",
    "        for goalie in data['boxscore']['playerByGameStats']['homeTeam']['goalies']:\n",
    "            home_team_goalie_stats_dict = {\n",
    "                \"game_id\" : GAMEID,\n",
    "                \"player_id\" : goalie['playerId'],\n",
    "                \"team_id\" : str(data[\"homeTeam\"][\"id\"]),\n",
    "                \"time_on_ice\" : goalie['toi'],\n",
    "                \"pim\" : goalie['pim'],\n",
    "                \"even_strength_shots_against\" : goalie['evenStrengthShotsAgainst'],\n",
    "                \"saves_shots_against\" : goalie['saveShotsAgainst'],\n",
    "                \"power_play_shots_against\" : goalie['powerPlayShotsAgainst'],\n",
    "                \"goals_against\" : goalie['goalsAgainst'],\n",
    "            }\n",
    "            if home_team_goalie_stats_dict['time_on_ice'] != '00:00':\n",
    "                game_goalie_stats.append(home_team_goalie_stats_dict)\n",
    "\n",
    "        for goalie in data['boxscore']['playerByGameStats']['awayTeam']['goalies']:\n",
    "            away_team_goalie_stats_dict = {\n",
    "                \"game_id\" : GAMEID,\n",
    "                \"player_id\" : goalie['playerId'],\n",
    "                \"team_id\" : str(data[\"awayTeam\"][\"id\"]),\n",
    "                \"time_on_ice\" : goalie['toi'],\n",
    "                \"pim\" : goalie['pim'],\n",
    "                \"even_strength_shots_against\" : goalie['evenStrengthShotsAgainst'],\n",
    "                \"saves_shots_against\" : goalie['saveShotsAgainst'],\n",
    "                \"power_play_shots_against\" : goalie['powerPlayShotsAgainst'],\n",
    "                \"goals_against\" : goalie['goalsAgainst'],\n",
    "            }\n",
    "            if away_team_goalie_stats_dict['time_on_ice'] != '00:00':\n",
    "                game_goalie_stats.append(away_team_goalie_stats_dict)\n",
    "\n",
    "\n",
    "        # Append home and away stats\n",
    "        game_team_stats.append(home_team_stats_dict)\n",
    "        game_team_stats.append(away_team_stats_dict)\n",
    "\n",
    "# Create a DataFrame from the extracted data\n",
    "df_game = pd.DataFrame(game_stats)\n",
    "df_game_team_stats = pd.DataFrame(game_team_stats)\n",
    "df_game_skater_stats = pd.DataFrame(game_skater_stats)\n",
    "df_game_goalie_stats = pd.DataFrame(game_goalie_stats)"
   ]
  },
  {
   "cell_type": "code",
   "execution_count": 13,
   "metadata": {},
   "outputs": [
    {
     "data": {
      "text/plain": [
       "'2023-10-22T02:30:00Z'"
      ]
     },
     "execution_count": 13,
     "metadata": {},
     "output_type": "execute_result"
    }
   ],
   "source": [
    "import os \n",
    "import pandas as pd\n",
    "os.chdir('/Users/jdmcatee/Desktop/sports_betting/data/maintained_tables')\n",
    "\n",
    "df = pd.read_csv('fct_maintained_game.csv')\n",
    "df[df.game_state != 'FUT']['date_time_GMT'].max()"
   ]
  },
  {
   "cell_type": "code",
   "execution_count": 8,
   "metadata": {},
   "outputs": [
    {
     "ename": "DefaultCredentialsError",
     "evalue": "Your default credentials were not found. To set up Application Default Credentials, see https://cloud.google.com/docs/authentication/external/set-up-adc for more information.",
     "output_type": "error",
     "traceback": [
      "\u001b[0;31m---------------------------------------------------------------------------\u001b[0m",
      "\u001b[0;31mDefaultCredentialsError\u001b[0m                   Traceback (most recent call last)",
      "\u001b[0;32m<ipython-input-8-f51b7f3504ca>\u001b[0m in \u001b[0;36m<module>\u001b[0;34m\u001b[0m\n\u001b[1;32m      1\u001b[0m \u001b[0;32mfrom\u001b[0m \u001b[0mgoogle\u001b[0m\u001b[0;34m.\u001b[0m\u001b[0mcloud\u001b[0m \u001b[0;32mimport\u001b[0m \u001b[0mbigquery\u001b[0m\u001b[0;34m\u001b[0m\u001b[0;34m\u001b[0m\u001b[0m\n\u001b[0;32m----> 2\u001b[0;31m \u001b[0mclient\u001b[0m \u001b[0;34m=\u001b[0m \u001b[0mbigquery\u001b[0m\u001b[0;34m.\u001b[0m\u001b[0mClient\u001b[0m\u001b[0;34m(\u001b[0m\u001b[0;34m)\u001b[0m\u001b[0;34m\u001b[0m\u001b[0;34m\u001b[0m\u001b[0m\n\u001b[0m\u001b[1;32m      3\u001b[0m \u001b[0mproject\u001b[0m \u001b[0;34m=\u001b[0m \u001b[0;34m\"proud-storm-399815\"\u001b[0m\u001b[0;34m\u001b[0m\u001b[0;34m\u001b[0m\u001b[0m\n\u001b[1;32m      4\u001b[0m \u001b[0mdataset_id\u001b[0m \u001b[0;34m=\u001b[0m \u001b[0;34m\"proud-storm-399815.fct_maintained_game\"\u001b[0m\u001b[0;34m\u001b[0m\u001b[0;34m\u001b[0m\u001b[0m\n\u001b[1;32m      5\u001b[0m \u001b[0;34m\u001b[0m\u001b[0m\n",
      "\u001b[0;32m/opt/anaconda3/lib/python3.7/site-packages/google/cloud/bigquery/client.py\u001b[0m in \u001b[0;36m__init__\u001b[0;34m(self, project, credentials, _http, location, default_query_job_config, default_load_job_config, client_info, client_options)\u001b[0m\n\u001b[1;32m    247\u001b[0m             \u001b[0mcredentials\u001b[0m\u001b[0;34m=\u001b[0m\u001b[0mcredentials\u001b[0m\u001b[0;34m,\u001b[0m\u001b[0;34m\u001b[0m\u001b[0;34m\u001b[0m\u001b[0m\n\u001b[1;32m    248\u001b[0m             \u001b[0mclient_options\u001b[0m\u001b[0;34m=\u001b[0m\u001b[0mclient_options\u001b[0m\u001b[0;34m,\u001b[0m\u001b[0;34m\u001b[0m\u001b[0;34m\u001b[0m\u001b[0m\n\u001b[0;32m--> 249\u001b[0;31m             \u001b[0m_http\u001b[0m\u001b[0;34m=\u001b[0m\u001b[0m_http\u001b[0m\u001b[0;34m,\u001b[0m\u001b[0;34m\u001b[0m\u001b[0;34m\u001b[0m\u001b[0m\n\u001b[0m\u001b[1;32m    250\u001b[0m         )\n\u001b[1;32m    251\u001b[0m \u001b[0;34m\u001b[0m\u001b[0m\n",
      "\u001b[0;32m/opt/anaconda3/lib/python3.7/site-packages/google/cloud/client/__init__.py\u001b[0m in \u001b[0;36m__init__\u001b[0;34m(self, project, credentials, client_options, _http)\u001b[0m\n\u001b[1;32m    318\u001b[0m \u001b[0;34m\u001b[0m\u001b[0m\n\u001b[1;32m    319\u001b[0m     \u001b[0;32mdef\u001b[0m \u001b[0m__init__\u001b[0m\u001b[0;34m(\u001b[0m\u001b[0mself\u001b[0m\u001b[0;34m,\u001b[0m \u001b[0mproject\u001b[0m\u001b[0;34m=\u001b[0m\u001b[0;32mNone\u001b[0m\u001b[0;34m,\u001b[0m \u001b[0mcredentials\u001b[0m\u001b[0;34m=\u001b[0m\u001b[0;32mNone\u001b[0m\u001b[0;34m,\u001b[0m \u001b[0mclient_options\u001b[0m\u001b[0;34m=\u001b[0m\u001b[0;32mNone\u001b[0m\u001b[0;34m,\u001b[0m \u001b[0m_http\u001b[0m\u001b[0;34m=\u001b[0m\u001b[0;32mNone\u001b[0m\u001b[0;34m)\u001b[0m\u001b[0;34m:\u001b[0m\u001b[0;34m\u001b[0m\u001b[0;34m\u001b[0m\u001b[0m\n\u001b[0;32m--> 320\u001b[0;31m         \u001b[0m_ClientProjectMixin\u001b[0m\u001b[0;34m.\u001b[0m\u001b[0m__init__\u001b[0m\u001b[0;34m(\u001b[0m\u001b[0mself\u001b[0m\u001b[0;34m,\u001b[0m \u001b[0mproject\u001b[0m\u001b[0;34m=\u001b[0m\u001b[0mproject\u001b[0m\u001b[0;34m,\u001b[0m \u001b[0mcredentials\u001b[0m\u001b[0;34m=\u001b[0m\u001b[0mcredentials\u001b[0m\u001b[0;34m)\u001b[0m\u001b[0;34m\u001b[0m\u001b[0;34m\u001b[0m\u001b[0m\n\u001b[0m\u001b[1;32m    321\u001b[0m         Client.__init__(\n\u001b[1;32m    322\u001b[0m             \u001b[0mself\u001b[0m\u001b[0;34m,\u001b[0m \u001b[0mcredentials\u001b[0m\u001b[0;34m=\u001b[0m\u001b[0mcredentials\u001b[0m\u001b[0;34m,\u001b[0m \u001b[0mclient_options\u001b[0m\u001b[0;34m=\u001b[0m\u001b[0mclient_options\u001b[0m\u001b[0;34m,\u001b[0m \u001b[0m_http\u001b[0m\u001b[0;34m=\u001b[0m\u001b[0m_http\u001b[0m\u001b[0;34m\u001b[0m\u001b[0;34m\u001b[0m\u001b[0m\n",
      "\u001b[0;32m/opt/anaconda3/lib/python3.7/site-packages/google/cloud/client/__init__.py\u001b[0m in \u001b[0;36m__init__\u001b[0;34m(self, project, credentials)\u001b[0m\n\u001b[1;32m    266\u001b[0m \u001b[0;34m\u001b[0m\u001b[0m\n\u001b[1;32m    267\u001b[0m         \u001b[0;32mif\u001b[0m \u001b[0mproject\u001b[0m \u001b[0;32mis\u001b[0m \u001b[0;32mNone\u001b[0m\u001b[0;34m:\u001b[0m\u001b[0;34m\u001b[0m\u001b[0;34m\u001b[0m\u001b[0m\n\u001b[0;32m--> 268\u001b[0;31m             \u001b[0mproject\u001b[0m \u001b[0;34m=\u001b[0m \u001b[0mself\u001b[0m\u001b[0;34m.\u001b[0m\u001b[0m_determine_default\u001b[0m\u001b[0;34m(\u001b[0m\u001b[0mproject\u001b[0m\u001b[0;34m)\u001b[0m\u001b[0;34m\u001b[0m\u001b[0;34m\u001b[0m\u001b[0m\n\u001b[0m\u001b[1;32m    269\u001b[0m \u001b[0;34m\u001b[0m\u001b[0m\n\u001b[1;32m    270\u001b[0m         \u001b[0;32mif\u001b[0m \u001b[0mproject\u001b[0m \u001b[0;32mis\u001b[0m \u001b[0;32mNone\u001b[0m\u001b[0;34m:\u001b[0m\u001b[0;34m\u001b[0m\u001b[0;34m\u001b[0m\u001b[0m\n",
      "\u001b[0;32m/opt/anaconda3/lib/python3.7/site-packages/google/cloud/client/__init__.py\u001b[0m in \u001b[0;36m_determine_default\u001b[0;34m(project)\u001b[0m\n\u001b[1;32m    285\u001b[0m     \u001b[0;32mdef\u001b[0m \u001b[0m_determine_default\u001b[0m\u001b[0;34m(\u001b[0m\u001b[0mproject\u001b[0m\u001b[0;34m)\u001b[0m\u001b[0;34m:\u001b[0m\u001b[0;34m\u001b[0m\u001b[0;34m\u001b[0m\u001b[0m\n\u001b[1;32m    286\u001b[0m         \u001b[0;34m\"\"\"Helper:  use default project detection.\"\"\"\u001b[0m\u001b[0;34m\u001b[0m\u001b[0;34m\u001b[0m\u001b[0m\n\u001b[0;32m--> 287\u001b[0;31m         \u001b[0;32mreturn\u001b[0m \u001b[0m_determine_default_project\u001b[0m\u001b[0;34m(\u001b[0m\u001b[0mproject\u001b[0m\u001b[0;34m)\u001b[0m\u001b[0;34m\u001b[0m\u001b[0;34m\u001b[0m\u001b[0m\n\u001b[0m\u001b[1;32m    288\u001b[0m \u001b[0;34m\u001b[0m\u001b[0m\n\u001b[1;32m    289\u001b[0m \u001b[0;34m\u001b[0m\u001b[0m\n",
      "\u001b[0;32m/opt/anaconda3/lib/python3.7/site-packages/google/cloud/_helpers/__init__.py\u001b[0m in \u001b[0;36m_determine_default_project\u001b[0;34m(project)\u001b[0m\n\u001b[1;32m    150\u001b[0m     \"\"\"\n\u001b[1;32m    151\u001b[0m     \u001b[0;32mif\u001b[0m \u001b[0mproject\u001b[0m \u001b[0;32mis\u001b[0m \u001b[0;32mNone\u001b[0m\u001b[0;34m:\u001b[0m\u001b[0;34m\u001b[0m\u001b[0;34m\u001b[0m\u001b[0m\n\u001b[0;32m--> 152\u001b[0;31m         \u001b[0m_\u001b[0m\u001b[0;34m,\u001b[0m \u001b[0mproject\u001b[0m \u001b[0;34m=\u001b[0m \u001b[0mgoogle\u001b[0m\u001b[0;34m.\u001b[0m\u001b[0mauth\u001b[0m\u001b[0;34m.\u001b[0m\u001b[0mdefault\u001b[0m\u001b[0;34m(\u001b[0m\u001b[0;34m)\u001b[0m\u001b[0;34m\u001b[0m\u001b[0;34m\u001b[0m\u001b[0m\n\u001b[0m\u001b[1;32m    153\u001b[0m     \u001b[0;32mreturn\u001b[0m \u001b[0mproject\u001b[0m\u001b[0;34m\u001b[0m\u001b[0;34m\u001b[0m\u001b[0m\n\u001b[1;32m    154\u001b[0m \u001b[0;34m\u001b[0m\u001b[0m\n",
      "\u001b[0;32m/opt/anaconda3/lib/python3.7/site-packages/google/auth/_default.py\u001b[0m in \u001b[0;36mdefault\u001b[0;34m(scopes, request, quota_project_id, default_scopes)\u001b[0m\n\u001b[1;32m    689\u001b[0m             \u001b[0;32mreturn\u001b[0m \u001b[0mcredentials\u001b[0m\u001b[0;34m,\u001b[0m \u001b[0meffective_project_id\u001b[0m\u001b[0;34m\u001b[0m\u001b[0;34m\u001b[0m\u001b[0m\n\u001b[1;32m    690\u001b[0m \u001b[0;34m\u001b[0m\u001b[0m\n\u001b[0;32m--> 691\u001b[0;31m     \u001b[0;32mraise\u001b[0m \u001b[0mexceptions\u001b[0m\u001b[0;34m.\u001b[0m\u001b[0mDefaultCredentialsError\u001b[0m\u001b[0;34m(\u001b[0m\u001b[0m_CLOUD_SDK_MISSING_CREDENTIALS\u001b[0m\u001b[0;34m)\u001b[0m\u001b[0;34m\u001b[0m\u001b[0;34m\u001b[0m\u001b[0m\n\u001b[0m",
      "\u001b[0;31mDefaultCredentialsError\u001b[0m: Your default credentials were not found. To set up Application Default Credentials, see https://cloud.google.com/docs/authentication/external/set-up-adc for more information."
     ]
    }
   ],
   "source": [
    "from google.cloud import bigquery\n",
    "import os\n",
    "os.environ[\"GOOGLE_APPLICATION_CREDENTIALS\"] = \"path_to_your_.json_credential_file\"\n",
    "\n",
    "client = bigquery.Client()\n",
    "project = \"proud-storm-399815\"\n",
    "dataset_id = \"proud-storm-399815.fct_maintained_game\"\n",
    "\n",
    "dataset_ref = bigquery.DatasetReference(project, dataset_id)\n",
    "table_ref = dataset_ref.table(\"proud-storm-399815.fct_maintained_game.fct_maintained_game\")\n",
    "table = client.get_table(table_ref)\n",
    "\n",
    "df = client.list_rows(table).to_dataframe()"
   ]
  },
  {
   "cell_type": "code",
   "execution_count": null,
   "metadata": {},
   "outputs": [],
   "source": [
    "df"
   ]
  },
  {
   "cell_type": "code",
   "execution_count": null,
   "metadata": {},
   "outputs": [],
   "source": []
  }
 ],
 "metadata": {
  "kernelspec": {
   "display_name": "Python 3",
   "language": "python",
   "name": "python3"
  },
  "language_info": {
   "codemirror_mode": {
    "name": "ipython",
    "version": 3
   },
   "file_extension": ".py",
   "mimetype": "text/x-python",
   "name": "python",
   "nbconvert_exporter": "python",
   "pygments_lexer": "ipython3",
   "version": "3.7.6"
  }
 },
 "nbformat": 4,
 "nbformat_minor": 4
}
